{
 "cells": [
  {
   "cell_type": "code",
   "execution_count": 1,
   "metadata": {},
   "outputs": [],
   "source": [
    "import numpy as np"
   ]
  },
  {
   "cell_type": "code",
   "execution_count": 2,
   "metadata": {},
   "outputs": [],
   "source": [
    "batch, input_data, hidden, output_data = 64, 1000, 100, 10"
   ]
  },
  {
   "cell_type": "code",
   "execution_count": 3,
   "metadata": {},
   "outputs": [],
   "source": [
    "x = np.random.randn(batch, input_data)\n",
    "y = np.random.randn(batch, output_data)"
   ]
  },
  {
   "cell_type": "code",
   "execution_count": 4,
   "metadata": {},
   "outputs": [],
   "source": [
    "w1 = np.random.randn(input_data, hidden)\n",
    "w2 = np.random.randn(hidden, output_data)"
   ]
  },
  {
   "cell_type": "code",
   "execution_count": 5,
   "metadata": {},
   "outputs": [
    {
     "name": "stdout",
     "output_type": "stream",
     "text": [
      "(64, 1000) (64, 10) (1000, 100) (100, 10)\n"
     ]
    }
   ],
   "source": [
    "print(x.shape, y.shape, w1.shape, w2.shape)"
   ]
  },
  {
   "cell_type": "code",
   "execution_count": 6,
   "metadata": {},
   "outputs": [],
   "source": [
    "learning_rate = 1e-6"
   ]
  },
  {
   "cell_type": "code",
   "execution_count": 7,
   "metadata": {},
   "outputs": [],
   "source": [
    "all_losses = []\n",
    "\n",
    "for i in range(500):\n",
    "    # forward\n",
    "    inh1 = x.dot(w1)\n",
    "    outh1 = np.maximum(inh1, 0) # relu activation\n",
    "    prediction = outh1.dot(w2) # in_h2\n",
    "    \n",
    "    # loss\n",
    "    loss = np.square(prediction - y).sum()\n",
    "    all_losses.append(loss)\n",
    "#     print('i = %d, loss = %d' % (i, loss))\n",
    "    \n",
    "    # backward\n",
    "    grad_loss_prediction = 2.0 * (prediction - y)\n",
    "    grad_prediction_w2 = outh1\n",
    "    grad_loss_w2 = grad_prediction_w2.T.dot(grad_loss_prediction) \n",
    "#     grad_loss_prediction * grad_prediction_w2 = grad_loss_w2\n",
    "#     you can simplify grad_loss_w2 as \n",
    "#     grad_loss_w2 = outh1.T.dot(grad_loss_prediction)\n",
    "    grad_prediction_outh1 = w2\n",
    "    grad_loss_outh1 = grad_loss_prediction.dot(grad_prediction_outh1.T) \n",
    "#     grad_loss_prediction * grad_prediction_outh1 = grad_loss_outh1\n",
    "#     you can simplift grad_loss_outh1 as\n",
    "#     grad_loss_outh1 = grad_loss_prediction.dot(w2.T) \n",
    "    grad_loss_inh1 = grad_loss_outh1.copy()\n",
    "    grad_loss_inh1[inh1<0] = 0\n",
    "    grad_inh1_w1 = x\n",
    "    grad_loss_w1 = grad_inh1_w1.T.dot(grad_loss_inh1) \n",
    "#     grad_loss_prediction * grad_prediction_outh1 * grad_outh1_inh1 * grad_inh1_w1 = grad_loss_w1\n",
    "#     you can simplify grad_loss_w1 as\n",
    "#     grad_loss_w1 = x.T.dot(grad_loss_inh1) \n",
    "\n",
    "    # weight update\n",
    "    w1 -= learning_rate * grad_loss_w1\n",
    "    w2 -= learning_rate * grad_loss_w2"
   ]
  },
  {
   "cell_type": "code",
   "execution_count": 8,
   "metadata": {},
   "outputs": [
    {
     "data": {
      "text/plain": [
       "[<matplotlib.lines.Line2D at 0x7f4edac766d8>]"
      ]
     },
     "execution_count": 8,
     "metadata": {},
     "output_type": "execute_result"
    },
    {
     "data": {
      "image/png": "[encoded data removed]",
      "text/plain": [
       "<Figure size 432x288 with 1 Axes>"
      ]
     },
     "metadata": {},
     "output_type": "display_data"
    }
   ],
   "source": [
    "import matplotlib.pyplot as plt\n",
    "% matplotlib inline\n",
    "\n",
    "plt.figure()\n",
    "plt.plot(all_losses)"
   ]
  }
 ],
 "metadata": {
  "kernelspec": {
   "display_name": "Python 3",
   "language": "python",
   "name": "python3"
  },
  "language_info": {
   "codemirror_mode": {
    "name": "ipython",
    "version": 3
   },
   "file_extension": ".py",
   "mimetype": "text/x-python",
   "name": "python",
   "nbconvert_exporter": "python",
   "pygments_lexer": "ipython3",
   "version": "3.6.5"
  }
 },
 "nbformat": 4,
 "nbformat_minor": 2
}
