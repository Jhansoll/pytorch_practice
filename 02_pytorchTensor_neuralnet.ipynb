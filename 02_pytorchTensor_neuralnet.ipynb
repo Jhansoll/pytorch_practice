{
 "cells": [
  {
   "cell_type": "code",
   "execution_count": 1,
   "metadata": {},
   "outputs": [],
   "source": [
    "import torch"
   ]
  },
  {
   "cell_type": "code",
   "execution_count": 2,
   "metadata": {},
   "outputs": [],
   "source": [
    "dtype = torch.FloatTensor\n",
    "\n",
    "batch_size, input_size, hidden_size, output_size = 64, 1000, 100, 10\n",
    "\n",
    "x = torch.randn(batch_size, input_size).type(dtype) # type default : torch.FloatTensor\n",
    "y = torch.randn(batch_size, output_size).type(dtype)\n",
    "\n",
    "w1 = torch.randn(input_size, hidden_size).type(dtype)\n",
    "w2 = torch.randn(hidden_size, output_size).type(dtype)\n",
    "\n",
    "learning_rate = 1e-6"
   ]
  },
  {
   "cell_type": "code",
   "execution_count": 3,
   "metadata": {},
   "outputs": [
    {
     "name": "stdout",
     "output_type": "stream",
     "text": [
      "<class 'torch.Tensor'> <class 'torch.Tensor'> <class 'torch.Tensor'> <class 'torch.Tensor'>\n"
     ]
    }
   ],
   "source": [
    "print(type(x), type(y), type(w1), type(w2))"
   ]
  },
  {
   "cell_type": "code",
   "execution_count": 4,
   "metadata": {},
   "outputs": [
    {
     "name": "stdout",
     "output_type": "stream",
     "text": [
      "torch.Size([64, 1000]) torch.Size([64, 10]) torch.Size([1000, 100]) torch.Size([100, 10])\n"
     ]
    }
   ],
   "source": [
    "print(x.shape, y.shape, w1.shape, w2.shape)"
   ]
  },
  {
   "cell_type": "code",
   "execution_count": 5,
   "metadata": {},
   "outputs": [],
   "source": [
    "all_losses = []\n",
    "\n",
    "for i in range(500):\n",
    "    # forward\n",
    "    inh1 = x.mm(w1) # .mm : matrix multiplication\n",
    "    outh1 = inh1.clamp(min=0) # (relu) .clamp :Clamps all elements in input to be larger or equal min \n",
    "    prediction = outh1.mm(w2)\n",
    "    \n",
    "    # loss\n",
    "    loss = (prediction - y).pow(2).sum()\n",
    "    all_losses.append(loss)\n",
    "#     print('i = %d, loss = %d' %(i, loss))\n",
    "    \n",
    "    # backward (WE NEED 'grad_loss_w1', 'grad_loss_w2' for weight update)\n",
    "    grad_loss_prediction = 2.0 * (prediction - y)\n",
    "    grad_prediction_w2 = outh1\n",
    "    grad_loss_w2 = grad_prediction_w2.t().mm(grad_loss_prediction)\n",
    "    \n",
    "    grad_prediction_outh1 = w2\n",
    "    grad_loss_outh1 = grad_loss_prediction.mm(grad_prediction_outh1.t())\n",
    "    grad_loss_inh1 = grad_loss_outh1.clone()\n",
    "    grad_loss_inh1[inh1<0] = 0\n",
    "    grad_inh1_w1 = x\n",
    "    grad_loss_w1 = grad_inh1_w1.t().mm(grad_loss_inh1)\n",
    "    \n",
    "    # weight update\n",
    "    w1 -= learning_rate * grad_loss_w1\n",
    "    w2 -= learning_rate * grad_loss_w2"
   ]
  },
  {
   "cell_type": "code",
   "execution_count": 6,
   "metadata": {},
   "outputs": [
    {
     "data": {
      "text/plain": [
       "[<matplotlib.lines.Line2D at 0x7f2c3e703668>]"
      ]
     },
     "execution_count": 6,
     "metadata": {},
     "output_type": "execute_result"
    },
    {
     "data": {
      "image/png": "[encoded data removed]",
      "text/plain": [
       "<Figure size 432x288 with 1 Axes>"
      ]
     },
     "metadata": {},
     "output_type": "display_data"
    }
   ],
   "source": [
    "import matplotlib.pyplot as plt\n",
    "% matplotlib inline\n",
    "\n",
    "plt.figure()\n",
    "plt.plot(all_losses)"
   ]
  }
 ],
 "metadata": {
  "kernelspec": {
   "display_name": "Python 3",
   "language": "python",
   "name": "python3"
  },
  "language_info": {
   "codemirror_mode": {
    "name": "ipython",
    "version": 3
   },
   "file_extension": ".py",
   "mimetype": "text/x-python",
   "name": "python",
   "nbconvert_exporter": "python",
   "pygments_lexer": "ipython3",
   "version": "3.6.5"
  }
 },
 "nbformat": 4,
 "nbformat_minor": 2
}
