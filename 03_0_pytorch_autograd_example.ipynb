{
 "cells": [
  {
   "cell_type": "code",
   "execution_count": 1,
   "metadata": {},
   "outputs": [],
   "source": [
    "from torch import FloatTensor\n",
    "from torch.autograd import Variable"
   ]
  },
  {
   "cell_type": "markdown",
   "metadata": {},
   "source": [
    "#### torch.autograd\n",
    "\n",
    "autograd.Variable class : wrap Tensor   \n",
    "- .data : You can approach *raw tensor*\n",
    "- .grad : gradient data (if you use \".backward()\")\n",
    "- .grad_fn\n",
    "\n",
    "https://towardsdatascience.com/getting-started-with-pytorch-part-1-understanding-how-automatic-differentiation-works-5008282073ec"
   ]
  },
  {
   "cell_type": "code",
   "execution_count": null,
   "metadata": {},
   "outputs": [],
   "source": [
    "# Define the leaf nodes\n",
    "a = Variable(FloatTensor([4]))\n",
    "\n",
    "weights = [Variable(FloatTensor([i]), requires_grad=True) for i in (2, 5, 9, 7)]\n",
    "\n",
    "# unpack the weights for nicer assignment\n",
    "w1, w2, w3, w4 = weights\n",
    "\n",
    "b = w1 * a\n",
    "c = w2 * a\n",
    "d = w3 * b + w4 * c\n",
    "L = (10 - d)\n",
    "\n",
    "L.backward()"
   ]
  },
  {
   "cell_type": "code",
   "execution_count": 35,
   "metadata": {},
   "outputs": [
    {
     "data": {
      "text/plain": [
       "tensor([-202.], grad_fn=<RsubBackward1>)"
      ]
     },
     "execution_count": 35,
     "metadata": {},
     "output_type": "execute_result"
    }
   ],
   "source": [
    "L"
   ]
  },
  {
   "cell_type": "code",
   "execution_count": 36,
   "metadata": {},
   "outputs": [
    {
     "data": {
      "text/plain": [
       "tensor([-202.])"
      ]
     },
     "execution_count": 36,
     "metadata": {},
     "output_type": "execute_result"
    }
   ],
   "source": [
    "L.data"
   ]
  },
  {
   "cell_type": "code",
   "execution_count": 52,
   "metadata": {},
   "outputs": [
    {
     "name": "stdout",
     "output_type": "stream",
     "text": [
      "<RsubBackward1 object at 0x7f3a39e04208>\n",
      "<AddBackward0 object at 0x7f3a39e0d940>\n",
      "<MulBackward0 object at 0x7f3a39e0d198>\n",
      "<MulBackward0 object at 0x7f3a39e0d940>\n"
     ]
    }
   ],
   "source": [
    "print(L.grad_fn)\n",
    "print(d.grad_fn)\n",
    "print(c.grad_fn)\n",
    "print(b.grad_fn)"
   ]
  },
  {
   "cell_type": "code",
   "execution_count": 26,
   "metadata": {},
   "outputs": [
    {
     "data": {
      "text/plain": [
       "[tensor([2.], requires_grad=True),\n",
       " tensor([5.], requires_grad=True),\n",
       " tensor([9.], requires_grad=True),\n",
       " tensor([7.], requires_grad=True)]"
      ]
     },
     "execution_count": 26,
     "metadata": {},
     "output_type": "execute_result"
    }
   ],
   "source": [
    "weights"
   ]
  },
  {
   "cell_type": "code",
   "execution_count": 47,
   "metadata": {},
   "outputs": [
    {
     "name": "stdout",
     "output_type": "stream",
     "text": [
      "1 tensor([2.], requires_grad=True)\n",
      "tensor([-36.])\n",
      "tensor([-36.])\n",
      "tensor(-36.)\n",
      "Gradient of w1 w.r.t to L: -36.0\n",
      "\n",
      "2 tensor([5.], requires_grad=True)\n",
      "tensor([-28.])\n",
      "tensor([-28.])\n",
      "tensor(-28.)\n",
      "Gradient of w2 w.r.t to L: -28.0\n",
      "\n",
      "3 tensor([9.], requires_grad=True)\n",
      "tensor([-8.])\n",
      "tensor([-8.])\n",
      "tensor(-8.)\n",
      "Gradient of w3 w.r.t to L: -8.0\n",
      "\n",
      "4 tensor([7.], requires_grad=True)\n",
      "tensor([-20.])\n",
      "tensor([-20.])\n",
      "tensor(-20.)\n",
      "Gradient of w4 w.r.t to L: -20.0\n",
      "\n"
     ]
    }
   ],
   "source": [
    "for index, weight in enumerate(weights, start=1): # index start point\n",
    "    print(index, weight)\n",
    "    \n",
    "    print(weight.grad)\n",
    "    print(weight.grad.data)\n",
    "    gradient, *_ = weight.grad.data\n",
    "    print(gradient)\n",
    "    \n",
    "    print(f\"Gradient of w{index} w.r.t to L: {gradient}\\n\")   "
   ]
  }
 ],
 "metadata": {
  "kernelspec": {
   "display_name": "Python 3",
   "language": "python",
   "name": "python3"
  },
  "language_info": {
   "codemirror_mode": {
    "name": "ipython",
    "version": 3
   },
   "file_extension": ".py",
   "mimetype": "text/x-python",
   "name": "python",
   "nbconvert_exporter": "python",
   "pygments_lexer": "ipython3",
   "version": "3.6.5"
  }
 },
 "nbformat": 4,
 "nbformat_minor": 2
}
