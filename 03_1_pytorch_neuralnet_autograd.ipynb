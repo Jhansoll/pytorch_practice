{
 "cells": [
  {
   "cell_type": "code",
   "execution_count": 1,
   "metadata": {},
   "outputs": [],
   "source": [
    "import torch\n",
    "from torch.autograd import Variable"
   ]
  },
  {
   "cell_type": "code",
   "execution_count": 2,
   "metadata": {},
   "outputs": [],
   "source": [
    "dtype = torch.FloatTensor\n",
    "\n",
    "batch_size, input_size, hidden_size, output_size = 64, 1000, 100, 10\n",
    "\n",
    "# x = torch.randn(batch_size, input_size).type(dtype)\n",
    "# y = torch.randn(batch_size, output_size).type(dtype)\n",
    "x = Variable(torch.randn(batch_size, input_size).type(dtype), requires_grad=False)\n",
    "y = Variable(torch.randn(batch_size, output_size).type(dtype), requires_grad=False)\n",
    "\n",
    "# w1 = torch.randn(input_size, hidden_size).type(dtype)\n",
    "# w2 = torch.randn(hidden_size, output_size).type(dtype)\n",
    "w1 = Variable(torch.randn(input_size, hidden_size).type(dtype), requires_grad=True)\n",
    "w2 = Variable(torch.randn(hidden_size, output_size).type(dtype), requires_grad=True)\n",
    "\n",
    "learning_rate = 1e-6"
   ]
  },
  {
   "cell_type": "code",
   "execution_count": 3,
   "metadata": {},
   "outputs": [
    {
     "name": "stdout",
     "output_type": "stream",
     "text": [
      "<class 'torch.Tensor'> <class 'torch.Tensor'> <class 'torch.Tensor'> <class 'torch.Tensor'>\n"
     ]
    }
   ],
   "source": [
    "print(type(x), type(y), type(w1), type(w2))"
   ]
  },
  {
   "cell_type": "code",
   "execution_count": 4,
   "metadata": {},
   "outputs": [
    {
     "name": "stdout",
     "output_type": "stream",
     "text": [
      "torch.Size([64, 1000]) torch.Size([64, 10]) torch.Size([1000, 100]) torch.Size([100, 10])\n"
     ]
    }
   ],
   "source": [
    "print(x.shape, y.shape, w1.shape, w2.shape)"
   ]
  },
  {
   "cell_type": "code",
   "execution_count": 5,
   "metadata": {},
   "outputs": [],
   "source": [
    "all_losses = []\n",
    "\n",
    "for i in range(500):\n",
    "    # forward\n",
    "    inh1 = x.mm(w1)\n",
    "    outh1 = inh1.clamp(min=0) # relu activation function\n",
    "    prediction = outh1.mm(w2)\n",
    "    \n",
    "    # loss\n",
    "    loss = (prediction - y).pow(2).sum()\n",
    "#     print('i = %d, loss = %d' %(i, loss))\n",
    "    all_losses.append(loss)\n",
    "\n",
    "    # backward (WE NEED 'grad_loss_w1', 'grad_loss_w2' for weight update)\n",
    "    loss.backward()\n",
    "    \n",
    "    # weight update\n",
    "#     w1 -= learning_rate * grad_loss_w1\n",
    "#     w2 -= learning_rate * grad_loss_w2\n",
    "    w1.data -= learning_rate * w1.grad.data\n",
    "    w2.data -= learning_rate * w2.grad.data\n",
    "    \n",
    "    # make your gradient 0\n",
    "    # set the gradients to zero before starting to do backpropragation \n",
    "    w1.grad.data.zero_()\n",
    "    w2.grad.data.zero_()"
   ]
  },
  {
   "cell_type": "code",
   "execution_count": 6,
   "metadata": {},
   "outputs": [
    {
     "data": {
      "text/plain": [
       "tensor([[-0.4468,  1.0372, -0.1659,  ...,  0.6734,  1.2917, -0.7115],\n",
       "        [ 1.4570,  1.2794, -1.2778,  ..., -0.0272, -0.9343, -0.4103],\n",
       "        [-2.2319, -1.5829, -1.2942,  ...,  1.2886, -0.1501,  0.6962],\n",
       "        ...,\n",
       "        [ 0.8160, -0.0384, -0.5877,  ...,  0.6180, -0.4175, -1.8179],\n",
       "        [ 1.5093,  0.6622,  0.8125,  ..., -0.4763, -0.1964, -0.9560],\n",
       "        [ 0.5268,  0.9735,  0.2587,  ...,  0.5277,  0.1080, -0.1838]])"
      ]
     },
     "execution_count": 6,
     "metadata": {},
     "output_type": "execute_result"
    }
   ],
   "source": [
    "w1.data"
   ]
  },
  {
   "cell_type": "code",
   "execution_count": 7,
   "metadata": {},
   "outputs": [
    {
     "data": {
      "text/plain": [
       "[<matplotlib.lines.Line2D at 0x7fb1f70ee780>]"
      ]
     },
     "execution_count": 7,
     "metadata": {},
     "output_type": "execute_result"
    },
    {
     "data": {
      "image/png": "[encoded data removed]",
      "text/plain": [
       "<Figure size 432x288 with 1 Axes>"
      ]
     },
     "metadata": {},
     "output_type": "display_data"
    }
   ],
   "source": [
    "import matplotlib.pyplot as plt\n",
    "% matplotlib inline\n",
    "\n",
    "plt.figure()\n",
    "plt.plot(all_losses)"
   ]
  }
 ],
 "metadata": {
  "kernelspec": {
   "display_name": "Python 3",
   "language": "python",
   "name": "python3"
  },
  "language_info": {
   "codemirror_mode": {
    "name": "ipython",
    "version": 3
   },
   "file_extension": ".py",
   "mimetype": "text/x-python",
   "name": "python",
   "nbconvert_exporter": "python",
   "pygments_lexer": "ipython3",
   "version": "3.6.5"
  }
 },
 "nbformat": 4,
 "nbformat_minor": 2
}
