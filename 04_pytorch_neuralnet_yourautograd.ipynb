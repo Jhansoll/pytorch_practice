{
 "cells": [
  {
   "cell_type": "code",
   "execution_count": 1,
   "metadata": {},
   "outputs": [],
   "source": [
    "import torch\n",
    "from torch.autograd import Variable"
   ]
  },
  {
   "cell_type": "code",
   "execution_count": 2,
   "metadata": {},
   "outputs": [],
   "source": [
    "class MyReLU(torch.autograd.Function):\n",
    "    \"\"\"\n",
    "    Make your own autograd function !    \n",
    "    \"\"\"\n",
    "    @staticmethod\n",
    "    def forward(ctx, input):\n",
    "        \"\"\"\n",
    "        This forward method returns 'ReLU(input)'.\n",
    "        ctx : Context Object to save info for backpropagation \n",
    "        \"\"\"\n",
    "        ctx.save_for_backward(input)\n",
    "        return input.clamp(min=0)\n",
    "    \n",
    "    @staticmethod\n",
    "    def backward(ctx, grad_output):\n",
    "        \"\"\"\n",
    "        This method returns gradient for your activation function.\n",
    "        \"\"\"\n",
    "        input, = ctx.saved_tensors\n",
    "        grad_ReLU = grad_output.clone()\n",
    "        grad_ReLU[input<0] = 0\n",
    "        return grad_ReLU"
   ]
  },
  {
   "cell_type": "code",
   "execution_count": 3,
   "metadata": {},
   "outputs": [],
   "source": [
    "dtype = torch.FloatTensor\n",
    "\n",
    "batch_size, input_size, hidden_size, output_size = 64, 1000, 100, 10\n",
    "\n",
    "# x = torch.randn(batch_size, input_size).type(dtype)\n",
    "# y = torch.randn(batch_size, output_size).type(dtype)\n",
    "x = Variable(torch.randn(batch_size, input_size).type(dtype), requires_grad=False)\n",
    "y = Variable(torch.randn(batch_size, output_size).type(dtype), requires_grad=False)\n",
    "\n",
    "# w1 = torch.randn(input_size, hidden_size).type(dtype)\n",
    "# w2 = torch.randn(hidden_size, output_size).type(dtype)\n",
    "w1 = Variable(torch.randn(input_size, hidden_size).type(dtype), requires_grad=True)\n",
    "w2 = Variable(torch.randn(hidden_size, output_size).type(dtype), requires_grad=True)\n",
    "\n",
    "learning_rate = 1e-6"
   ]
  },
  {
   "cell_type": "code",
   "execution_count": 4,
   "metadata": {},
   "outputs": [],
   "source": [
    "all_losses = []\n",
    "\n",
    "for i in range(500):\n",
    "    relu = MyReLU.apply\n",
    "    \n",
    "    # forward\n",
    "    inh1 = x.mm(w1)\n",
    "    outh1 = relu(inh1)\n",
    "    prediction = outh1.mm(w2)\n",
    "    \n",
    "    # loss\n",
    "    loss = (prediction - y).pow(2).sum()\n",
    "#     print('i = %d, loss = %d' %(i, loss.data))\n",
    "    all_losses.append(loss)\n",
    "    \n",
    "    # backward (WE NEED 'grad_loss_w1', 'grad_loss_w2' for weight update)\n",
    "    loss.backward()\n",
    "    \n",
    "    # weight update\n",
    "#     w1 -= learning_rate * grad_loss_w1\n",
    "#     w2 -= learning_rate * grad_loss_w2\n",
    "    w1.data -= learning_rate * w1.grad.data\n",
    "    w2.data -= learning_rate * w2.grad.data\n",
    "    \n",
    "    # make your gradient 0\n",
    "    w1.grad.data.zero_()\n",
    "    w2.grad.data.zero_()"
   ]
  },
  {
   "cell_type": "code",
   "execution_count": 5,
   "metadata": {},
   "outputs": [
    {
     "data": {
      "text/plain": [
       "[<matplotlib.lines.Line2D at 0x7f6372047630>]"
      ]
     },
     "execution_count": 5,
     "metadata": {},
     "output_type": "execute_result"
    },
    {
     "data": {
      "image/png": "[encoded data removed]",
      "text/plain": [
       "<Figure size 432x288 with 1 Axes>"
      ]
     },
     "metadata": {},
     "output_type": "display_data"
    }
   ],
   "source": [
    "import matplotlib.pyplot as plt\n",
    "% matplotlib inline\n",
    "\n",
    "plt.figure()\n",
    "plt.plot(all_losses)"
   ]
  }
 ],
 "metadata": {
  "kernelspec": {
   "display_name": "Python 3",
   "language": "python",
   "name": "python3"
  },
  "language_info": {
   "codemirror_mode": {
    "name": "ipython",
    "version": 3
   },
   "file_extension": ".py",
   "mimetype": "text/x-python",
   "name": "python",
   "nbconvert_exporter": "python",
   "pygments_lexer": "ipython3",
   "version": "3.6.5"
  }
 },
 "nbformat": 4,
 "nbformat_minor": 2
}
