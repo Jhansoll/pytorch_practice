{
 "cells": [
  {
   "cell_type": "markdown",
   "metadata": {},
   "source": [
    "## Make your forward method !"
   ]
  },
  {
   "cell_type": "code",
   "execution_count": 1,
   "metadata": {},
   "outputs": [],
   "source": [
    "import torch\n",
    "from torch.autograd import Variable"
   ]
  },
  {
   "cell_type": "code",
   "execution_count": 2,
   "metadata": {},
   "outputs": [],
   "source": [
    "class MyTwolayernet(torch.nn.Module):\n",
    "# when you made your activation function, you used torch.autograd.Function\n",
    "    def __init__(self, input_size, hidden_size, output_size):\n",
    "        \"\"\"\n",
    "        Initiate nn.Linear modules\n",
    "        \"\"\"\n",
    "        super(MyTwolayernet, self).__init__()\n",
    "        # use 'super()'  not to repeat parent class method \n",
    "        # super().__init__()\n",
    "        self.linear1 = torch.nn.Linear(input_size, hidden_size)\n",
    "        self.linear2 = torch.nn.Linear(hidden_size, output_size)\n",
    "        \n",
    "    def forward(self, x):\n",
    "        \"\"\"\n",
    "        Get your Varible and return prediction\n",
    "        \"\"\"\n",
    "        inh1 = self.linear1(x)\n",
    "        outh1 = inh1.clamp(min=0)\n",
    "        prediction = self.linear2(outh1)\n",
    "        return prediction"
   ]
  },
  {
   "cell_type": "code",
   "execution_count": 3,
   "metadata": {},
   "outputs": [],
   "source": [
    "batch_size, input_size, hidden_size, output_size = 64, 1000, 100, 10\n",
    "learning_rate = 1e-4  # 1e-6 is too small here with nn"
   ]
  },
  {
   "cell_type": "code",
   "execution_count": 4,
   "metadata": {},
   "outputs": [],
   "source": [
    "x = Variable(torch.randn(batch_size, input_size), requires_grad = False) # False is default\n",
    "y = Variable(torch.randn(batch_size, output_size), requires_grad = False)"
   ]
  },
  {
   "cell_type": "code",
   "execution_count": 5,
   "metadata": {},
   "outputs": [],
   "source": [
    "# model = torch.nn.Sequential(\n",
    "#         torch.nn.Linear(input_size, hidden_size),\n",
    "#         torch.nn.ReLU(),\n",
    "#         torch.nn.Linear(hidden_size, output_size))\n",
    "model  = MyTwolayernet(input_size, hidden_size, output_size)\n",
    "loss_fn = torch.nn.MSELoss(reduction = 'sum')\n",
    "optimizer = torch.optim.SGD(model.parameters(), lr=learning_rate)"
   ]
  },
  {
   "cell_type": "code",
   "execution_count": 8,
   "metadata": {},
   "outputs": [
    {
     "name": "stdout",
     "output_type": "stream",
     "text": [
      "MyTwolayernet(\n",
      "  (linear1): Linear(in_features=1000, out_features=100, bias=True)\n",
      "  (linear2): Linear(in_features=100, out_features=10, bias=True)\n",
      ")\n"
     ]
    }
   ],
   "source": [
    "print(model)"
   ]
  },
  {
   "cell_type": "code",
   "execution_count": 6,
   "metadata": {},
   "outputs": [],
   "source": [
    "all_losses = []\n",
    "\n",
    "for i in range(500):\n",
    "    # forward\n",
    "    prediction = model(x)\n",
    "\n",
    "    # loss\n",
    "    loss = loss_fn(prediction, y)\n",
    "    all_losses.append(loss)\n",
    "#     print('i = %d, loss = %d' %(i, loss.data))\n",
    "    \n",
    "    # backward\n",
    "    optimizer.zero_grad()\n",
    "    loss.backward()\n",
    "    optimizer.step()"
   ]
  },
  {
   "cell_type": "code",
   "execution_count": 7,
   "metadata": {},
   "outputs": [
    {
     "data": {
      "text/plain": [
       "tensor([[-2.4736e-05,  9.0476e-07, -6.3865e-05,  ..., -1.8346e-05,\n",
       "          1.2227e-05, -1.9415e-05],\n",
       "        [ 4.3512e-05, -2.1850e-05, -2.1325e-05,  ...,  1.4946e-05,\n",
       "         -2.0349e-05, -1.7772e-05],\n",
       "        [-6.3597e-05, -1.3913e-05,  7.7440e-06,  ..., -8.3997e-05,\n",
       "         -5.0243e-05,  1.4060e-05],\n",
       "        ...,\n",
       "        [ 2.3154e-05,  2.8660e-05,  6.4778e-05,  ...,  7.1436e-05,\n",
       "          2.5626e-05, -1.0843e-04],\n",
       "        [-4.2391e-05,  4.1786e-05, -5.8335e-05,  ..., -3.0086e-05,\n",
       "          5.0319e-05, -4.0704e-05],\n",
       "        [ 4.0484e-05,  3.7557e-05, -1.3302e-05,  ..., -6.1968e-05,\n",
       "          3.7389e-05,  6.0559e-06]])"
      ]
     },
     "execution_count": 7,
     "metadata": {},
     "output_type": "execute_result"
    }
   ],
   "source": [
    "model.linear1.weight.grad\n",
    "# model.linear1.bias.grad"
   ]
  },
  {
   "cell_type": "code",
   "execution_count": 8,
   "metadata": {},
   "outputs": [
    {
     "data": {
      "text/plain": [
       "[<matplotlib.lines.Line2D at 0x7fecdbad8a20>]"
      ]
     },
     "execution_count": 8,
     "metadata": {},
     "output_type": "execute_result"
    },
    {
     "data": {
      "image/png": "[encoded data removed]",
      "text/plain": [
       "<Figure size 432x288 with 1 Axes>"
      ]
     },
     "metadata": {},
     "output_type": "display_data"
    }
   ],
   "source": [
    "import matplotlib.pyplot as plt\n",
    "% matplotlib inline\n",
    "\n",
    "plt.figure()\n",
    "plt.plot(all_losses)"
   ]
  },
  {
   "cell_type": "code",
   "execution_count": null,
   "metadata": {},
   "outputs": [],
   "source": []
  }
 ],
 "metadata": {
  "kernelspec": {
   "display_name": "Python 3",
   "language": "python",
   "name": "python3"
  },
  "language_info": {
   "codemirror_mode": {
    "name": "ipython",
    "version": 3
   },
   "file_extension": ".py",
   "mimetype": "text/x-python",
   "name": "python",
   "nbconvert_exporter": "python",
   "pygments_lexer": "ipython3",
   "version": "3.6.5"
  }
 },
 "nbformat": 4,
 "nbformat_minor": 2
}
