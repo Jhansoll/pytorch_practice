{
 "cells": [
  {
   "cell_type": "code",
   "execution_count": 2,
   "metadata": {},
   "outputs": [
    {
     "name": "stdout",
     "output_type": "stream",
     "text": [
      "['./data/names/Korean.txt', './data/names/Portuguese.txt', './data/names/Vietnamese.txt', './data/names/Greek.txt', './data/names/Spanish.txt', './data/names/Polish.txt', './data/names/Russian.txt', './data/names/Scottish.txt', './data/names/German.txt', './data/names/Irish.txt', './data/names/Japanese.txt', './data/names/English.txt', './data/names/Chinese.txt', './data/names/Italian.txt', './data/names/French.txt', './data/names/Czech.txt', './data/names/Arabic.txt', './data/names/Dutch.txt']\n"
     ]
    }
   ],
   "source": [
    "import glob\n",
    "\n",
    "all_filenames = glob.glob('./data/names/*.txt')\n",
    "print(all_filenames)"
   ]
  },
  {
   "cell_type": "code",
   "execution_count": 3,
   "metadata": {},
   "outputs": [],
   "source": [
    "import string\n",
    "import unicodedata\n",
    "\n",
    "all_letters = string.ascii_letters + ' .,;'\n",
    "n_letters = len(all_letters)\n",
    "\n",
    "# Turn a Unicode string to plain ASCII, thanks to http://stackoverflow.com/a/518232/2809427\n",
    "def unicode_to_ascii(s):\n",
    "    return ''.join(\n",
    "        c for c in unicodedata.normalize('NFD', s)                  # 1. unicodedata.normalize\n",
    "        if unicodedata.category(c) != 'Mn' and c in all_letters # 2. if A and B  3. then return c\n",
    "    )\n",
    "# 'Mn' : nonspacing mark\n",
    "# NFD : https://gist.github.com/Pusnow/aa865fa21f9557fa58d691a8b79f8a6d\n",
    "# TO UNDERSTAND unicode_to_ascii : https://stackoverrun.com/ko/q/12246165\n",
    "\n",
    "# Build the category_lines dictionary, a list of names per language\n",
    "category_lines = {}\n",
    "all_categories = []\n",
    "\n",
    "# Read a file and split into lines\n",
    "def readLines(filename):\n",
    "    lines = open(filename).read().strip().split('\\n')\n",
    "    return [unicode_to_ascii(line) for line in lines]\n",
    "\n",
    "for filename in all_filenames:\n",
    "    category = filename.split('/')[-1].split('.')[0]\n",
    "    all_categories.append(category)\n",
    "    lines = readLines(filename)\n",
    "    category_lines[category] = lines"
   ]
  },
  {
   "cell_type": "code",
   "execution_count": 4,
   "metadata": {},
   "outputs": [
    {
     "data": {
      "text/plain": [
       "dict_keys(['Korean', 'Portuguese', 'Vietnamese', 'Greek', 'Spanish', 'Polish', 'Russian', 'Scottish', 'German', 'Irish', 'Japanese', 'English', 'Chinese', 'Italian', 'French', 'Czech', 'Arabic', 'Dutch'])"
      ]
     },
     "execution_count": 4,
     "metadata": {},
     "output_type": "execute_result"
    }
   ],
   "source": [
    "category_lines.keys()"
   ]
  },
  {
   "cell_type": "code",
   "execution_count": 5,
   "metadata": {},
   "outputs": [],
   "source": [
    "import random\n",
    "\n",
    "# Turn a line into a <line_length x 1 x n_letters>,\n",
    "# or an array of one-hot letter vectors\n",
    "def line_to_tensor(line):\n",
    "    tensor = torch.zeros(len(line), 1, n_letters)\n",
    "    for li, letter in enumerate(line):\n",
    "        letter_index = all_letters.find(letter)\n",
    "        tensor[li][0][letter_index] = 1\n",
    "    return tensor\n",
    "\n",
    "def random_training_pair():                                                                                                               \n",
    "    category = random.choice(all_categories)\n",
    "    line = random.choice(category_lines[category])\n",
    "    category_tensor = Variable(torch.LongTensor([all_categories.index(category)]))\n",
    "    line_tensor = Variable(line_to_tensor(line))\n",
    "    return line, category, line_tensor, category_tensor"
   ]
  },
  {
   "cell_type": "code",
   "execution_count": 14,
   "metadata": {},
   "outputs": [
    {
     "name": "stdout",
     "output_type": "stream",
     "text": [
      "tensor([[[0., 0., 0., 0., 0., 0., 0., 0., 0., 0., 0., 0., 0., 0., 0., 0., 0.,\n",
      "          0., 0., 0., 0., 0., 0., 0., 0., 0., 0., 0., 0., 0., 0., 0., 0., 0.,\n",
      "          0., 1., 0., 0., 0., 0., 0., 0., 0., 0., 0., 0., 0., 0., 0., 0., 0.,\n",
      "          0., 0., 0., 0., 0., 0.]],\n",
      "\n",
      "        [[0., 0., 0., 0., 0., 0., 0., 0., 0., 0., 0., 0., 0., 0., 1., 0., 0.,\n",
      "          0., 0., 0., 0., 0., 0., 0., 0., 0., 0., 0., 0., 0., 0., 0., 0., 0.,\n",
      "          0., 0., 0., 0., 0., 0., 0., 0., 0., 0., 0., 0., 0., 0., 0., 0., 0.,\n",
      "          0., 0., 0., 0., 0., 0.]],\n",
      "\n",
      "        [[0., 0., 0., 0., 0., 0., 0., 0., 0., 0., 0., 0., 0., 1., 0., 0., 0.,\n",
      "          0., 0., 0., 0., 0., 0., 0., 0., 0., 0., 0., 0., 0., 0., 0., 0., 0.,\n",
      "          0., 0., 0., 0., 0., 0., 0., 0., 0., 0., 0., 0., 0., 0., 0., 0., 0.,\n",
      "          0., 0., 0., 0., 0., 0.]],\n",
      "\n",
      "        [[0., 0., 0., 0., 1., 0., 0., 0., 0., 0., 0., 0., 0., 0., 0., 0., 0.,\n",
      "          0., 0., 0., 0., 0., 0., 0., 0., 0., 0., 0., 0., 0., 0., 0., 0., 0.,\n",
      "          0., 0., 0., 0., 0., 0., 0., 0., 0., 0., 0., 0., 0., 0., 0., 0., 0.,\n",
      "          0., 0., 0., 0., 0., 0.]],\n",
      "\n",
      "        [[0., 0., 0., 0., 0., 0., 0., 0., 0., 0., 0., 0., 0., 0., 0., 0., 0.,\n",
      "          0., 1., 0., 0., 0., 0., 0., 0., 0., 0., 0., 0., 0., 0., 0., 0., 0.,\n",
      "          0., 0., 0., 0., 0., 0., 0., 0., 0., 0., 0., 0., 0., 0., 0., 0., 0.,\n",
      "          0., 0., 0., 0., 0., 0.]]])\n",
      "torch.Size([5, 1, 57])\n"
     ]
    }
   ],
   "source": [
    "# To represent a single letter, we use a \"one-hot vector\" of size <1 x n_letters>.\n",
    "# To make a word we join a bunch of those into a 2D matrix <line_length x 1 x n_letters>.\n",
    "# That extra 1 dimension is because PyTorch assumes everything is in batches - we're just using a batch size of 1 here.\n",
    "print(line_to_tensor('Jones'))\n",
    "print(line_to_tensor('Jones').size())"
   ]
  },
  {
   "cell_type": "markdown",
   "metadata": {},
   "source": [
    "-----------------"
   ]
  },
  {
   "cell_type": "code",
   "execution_count": 6,
   "metadata": {},
   "outputs": [],
   "source": [
    "import torch\n",
    "from torch.autograd import Variable"
   ]
  },
  {
   "cell_type": "code",
   "execution_count": 10,
   "metadata": {},
   "outputs": [],
   "source": [
    "class RNN(torch.nn.Module):\n",
    "    def __init__(self, input_size, hidden_size, output_size):\n",
    "        \"\"\"\n",
    "        Initiate nn.Linear modules\n",
    "        \"\"\"\n",
    "        super(RNN, self).__init__()\n",
    "        self.input_size = input_size\n",
    "        self.hidden_size = hidden_size\n",
    "        self.output_size = output_size\n",
    "        \n",
    "        self.input_hidden = torch.nn.Linear(input_size + hidden_size, hidden_size)\n",
    "        self.input_output = torch.nn.Linear(input_size + hidden_size, output_size)\n",
    "        \n",
    "        self.logsoftmax = torch.nn.LogSoftmax()  # log(softmax( input ))\n",
    "        \n",
    "    def forward(self, x, hidden):\n",
    "        \"\"\"\n",
    "        Get your Varible and return prediction\n",
    "        \"\"\"\n",
    "        inandhidden = torch.cat((x, hidden), 1)\n",
    "        hidden = self.input_hidden(inandhidden)\n",
    "        output = self.input_output(inandhidden)\n",
    "        prediction = self.logsoftmax(output)\n",
    "        \n",
    "        return prediction, hidden\n",
    "    \n",
    "    def init_hidden(self):\n",
    "        return Variable(torch.zeros(1, self.hidden_size))"
   ]
  },
  {
   "cell_type": "code",
   "execution_count": 11,
   "metadata": {},
   "outputs": [],
   "source": [
    "n_letters = 57\n",
    "n_hidden = 128\n",
    "n_categories = 18\n",
    "\n",
    "input_size, hidden_size, output_size = n_letters, n_hidden, n_categories\n",
    "\n",
    "learning_rate = 0.005  # 1e-6 is too small here with nn\n",
    "n_epoch=30000"
   ]
  },
  {
   "cell_type": "code",
   "execution_count": 12,
   "metadata": {},
   "outputs": [
    {
     "name": "stderr",
     "output_type": "stream",
     "text": [
      "/home/hansol/anaconda3/lib/python3.6/site-packages/ipykernel_launcher.py:23: UserWarning: Implicit dimension choice for log_softmax has been deprecated. Change the call to include dim=X as an argument.\n"
     ]
    },
    {
     "name": "stdout",
     "output_type": "stream",
     "text": [
      "(1000 epoch) line = Duong, category = Vietnamese, loss = 2.863797\n",
      "(2000 epoch) line = Chu, category = Korean, loss = 2.822101\n",
      "(3000 epoch) line = Dam, category = Vietnamese, loss = 2.773669\n",
      "(4000 epoch) line = Gaspar, category = Spanish, loss = 2.727604\n",
      "(5000 epoch) line = Sedmikova, category = Czech, loss = 2.571930\n",
      "(6000 epoch) line = Villeneuve, category = French, loss = 2.434049\n",
      "(7000 epoch) line = Paraskevopoulos, category = Greek, loss = 2.347164\n",
      "(8000 epoch) line = Wyrick, category = Polish, loss = 2.274919\n",
      "(9000 epoch) line = Kuiper, category = Dutch, loss = 2.260304\n",
      "(10000 epoch) line = Hajjar, category = Arabic, loss = 2.224113\n",
      "(11000 epoch) line = Cai, category = Chinese, loss = 2.125988\n",
      "(12000 epoch) line = Salazar, category = Portuguese, loss = 2.140693\n",
      "(13000 epoch) line = Phocas, category = Greek, loss = 2.075546\n",
      "(14000 epoch) line = Lestrange, category = French, loss = 2.021281\n",
      "(15000 epoch) line = Filipek, category = Polish, loss = 2.046008\n",
      "(16000 epoch) line = Julebin, category = Russian, loss = 1.950637\n",
      "(17000 epoch) line = Wasem, category = Arabic, loss = 1.897820\n",
      "(18000 epoch) line = Vo, category = Vietnamese, loss = 1.887016\n",
      "(19000 epoch) line = Astbury, category = English, loss = 1.888236\n",
      "(20000 epoch) line = Mei, category = Chinese, loss = 1.876515\n",
      "(21000 epoch) line = Wilchek, category = Czech, loss = 1.798661\n",
      "(22000 epoch) line = Joe, category = Chinese, loss = 1.888039\n",
      "(23000 epoch) line = Phan, category = Vietnamese, loss = 1.741548\n",
      "(24000 epoch) line = Carbone, category = Italian, loss = 1.789922\n",
      "(25000 epoch) line = Arriola, category = Spanish, loss = 1.771405\n",
      "(26000 epoch) line = Koolen, category = Dutch, loss = 1.825140\n",
      "(27000 epoch) line = Dcruze, category = Portuguese, loss = 1.762249\n",
      "(28000 epoch) line = Meeuwessen, category = Dutch, loss = 1.734186\n",
      "(29000 epoch) line = OKeefe, category = Irish, loss = 1.730854\n",
      "(30000 epoch) line = Vu, category = Vietnamese, loss = 1.662265\n"
     ]
    }
   ],
   "source": [
    "model  = RNN(input_size, hidden_size, output_size)\n",
    "loss_fn = torch.nn.NLLLoss()  # the negative log likelihood loss (useful to train a classification problem with C classes)\n",
    "# negative loglikelihood loss vs cross entropy loss ?\n",
    "# http://www.godeep.ml/cross-entropy-likelihood-relation/\n",
    "optimizer = torch.optim.SGD(model.parameters(), lr=learning_rate)\n",
    "\n",
    "all_losses = []\n",
    "current_loss=0\n",
    "\n",
    "for epoch in range(1, n_epoch+1):\n",
    "    # data\n",
    "    line, category, line_tensor, category_tensor = random_training_pair()\n",
    "    \n",
    "    # initialize\n",
    "    model.zero_grad()  # same as 'weights.grad.data.zero_()', optimizer.zero_grad()\n",
    "    hidden = model.init_hidden()\n",
    "    \n",
    "    # forward\n",
    "    for i in range(line_tensor.size()[0]):  # n_letter for that line\n",
    "        prediction, hidden = model(line_tensor[i], hidden)\n",
    "\n",
    "    # loss\n",
    "    loss = loss_fn(prediction, category_tensor)\n",
    "    \n",
    "    # backward\n",
    "    loss.backward()\n",
    "    optimizer.step() # performs a parameter update based on the current gradient\n",
    "    \n",
    "    current_loss += loss\n",
    "    \n",
    "    if epoch % 1000 == 0 :\n",
    "        all_losses.append(current_loss/1000)\n",
    "        print('(%d epoch) line = %s, category = %s, loss = %f' %(epoch, line, category, current_loss/1000))\n",
    "        current_loss = 0"
   ]
  },
  {
   "cell_type": "code",
   "execution_count": 17,
   "metadata": {},
   "outputs": [
    {
     "data": {
      "text/plain": [
       "[<matplotlib.lines.Line2D at 0x7ffa80131438>]"
      ]
     },
     "execution_count": 17,
     "metadata": {},
     "output_type": "execute_result"
    },
    {
     "data": {
      "image/png": "[encoded data removed]",
      "text/plain": [
       "<Figure size 432x288 with 1 Axes>"
      ]
     },
     "metadata": {},
     "output_type": "display_data"
    }
   ],
   "source": [
    "import matplotlib.pyplot as plt\n",
    "% matplotlib inline\n",
    "\n",
    "plt.figure()\n",
    "plt.plot(all_losses)"
   ]
  },
  {
   "cell_type": "code",
   "execution_count": null,
   "metadata": {},
   "outputs": [],
   "source": []
  }
 ],
 "metadata": {
  "kernelspec": {
   "display_name": "Python 3",
   "language": "python",
   "name": "python3"
  },
  "language_info": {
   "codemirror_mode": {
    "name": "ipython",
    "version": 3
   },
   "file_extension": ".py",
   "mimetype": "text/x-python",
   "name": "python",
   "nbconvert_exporter": "python",
   "pygments_lexer": "ipython3",
   "version": "3.6.5"
  }
 },
 "nbformat": 4,
 "nbformat_minor": 2
}
