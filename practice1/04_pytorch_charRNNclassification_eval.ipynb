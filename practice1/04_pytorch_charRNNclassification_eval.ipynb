{
 "cells": [
  {
   "cell_type": "code",
   "execution_count": 1,
   "metadata": {},
   "outputs": [],
   "source": [
    "import torch\n",
    "from torch.autograd import Variable"
   ]
  },
  {
   "cell_type": "code",
   "execution_count": 2,
   "metadata": {},
   "outputs": [
    {
     "name": "stdout",
     "output_type": "stream",
     "text": [
      "['./data/names/Korean.txt', './data/names/Portuguese.txt', './data/names/Vietnamese.txt', './data/names/Greek.txt', './data/names/Spanish.txt', './data/names/Polish.txt', './data/names/Russian.txt', './data/names/Scottish.txt', './data/names/German.txt', './data/names/Irish.txt', './data/names/Japanese.txt', './data/names/English.txt', './data/names/Chinese.txt', './data/names/Italian.txt', './data/names/French.txt', './data/names/Czech.txt', './data/names/Arabic.txt', './data/names/Dutch.txt']\n"
     ]
    }
   ],
   "source": [
    "import glob\n",
    "\n",
    "all_filenames = glob.glob('./data/names/*.txt')\n",
    "print(all_filenames)"
   ]
  },
  {
   "cell_type": "code",
   "execution_count": 3,
   "metadata": {},
   "outputs": [],
   "source": [
    "import string\n",
    "import unicodedata\n",
    "\n",
    "all_letters = string.ascii_letters + ' .,;'\n",
    "n_letters = len(all_letters)\n",
    "\n",
    "# Turn a Unicode string to plain ASCII, thanks to http://stackoverflow.com/a/518232/2809427\n",
    "def unicode_to_ascii(s):\n",
    "    return ''.join(\n",
    "        c for c in unicodedata.normalize('NFD', s)                  # 1. unicodedata.normalize\n",
    "        if unicodedata.category(c) != 'Mn' and c in all_letters # 2. if A and B  3. then return c\n",
    "    )\n",
    "# 'Mn' : nonspacing mark\n",
    "# NFD : https://gist.github.com/Pusnow/aa865fa21f9557fa58d691a8b79f8a6d\n",
    "# TO UNDERSTAND unicode_to_ascii : https://stackoverrun.com/ko/q/12246165\n",
    "\n",
    "# Build the category_lines dictionary, a list of names per language\n",
    "category_lines = {}\n",
    "all_categories = []\n",
    "\n",
    "# Read a file and split into lines\n",
    "def readLines(filename):\n",
    "    lines = open(filename).read().strip().split('\\n')\n",
    "    return [unicode_to_ascii(line) for line in lines]\n",
    "\n",
    "for filename in all_filenames:\n",
    "    category = filename.split('/')[-1].split('.')[0]\n",
    "    all_categories.append(category)\n",
    "    lines = readLines(filename)\n",
    "    category_lines[category] = lines"
   ]
  },
  {
   "cell_type": "code",
   "execution_count": 4,
   "metadata": {},
   "outputs": [
    {
     "data": {
      "text/plain": [
       "dict_keys(['Korean', 'Portuguese', 'Vietnamese', 'Greek', 'Spanish', 'Polish', 'Russian', 'Scottish', 'German', 'Irish', 'Japanese', 'English', 'Chinese', 'Italian', 'French', 'Czech', 'Arabic', 'Dutch'])"
      ]
     },
     "execution_count": 4,
     "metadata": {},
     "output_type": "execute_result"
    }
   ],
   "source": [
    "category_lines.keys()"
   ]
  },
  {
   "cell_type": "code",
   "execution_count": 5,
   "metadata": {},
   "outputs": [],
   "source": [
    "import random\n",
    "\n",
    "# Turn a line into a <line_length x 1 x n_letters>,\n",
    "# or an array of one-hot letter vectors\n",
    "def line_to_tensor(line):\n",
    "    tensor = torch.zeros(len(line), 1, n_letters)\n",
    "    for li, letter in enumerate(line):\n",
    "        letter_index = all_letters.find(letter)\n",
    "        tensor[li][0][letter_index] = 1\n",
    "    return tensor\n",
    "\n",
    "def random_training_pair():                                                                                                               \n",
    "    category = random.choice(all_categories)\n",
    "    line = random.choice(category_lines[category])\n",
    "    category_tensor = Variable(torch.LongTensor([all_categories.index(category)]))\n",
    "    line_tensor = Variable(line_to_tensor(line))\n",
    "    return line, category, line_tensor, category_tensor"
   ]
  },
  {
   "cell_type": "code",
   "execution_count": 6,
   "metadata": {},
   "outputs": [
    {
     "name": "stdout",
     "output_type": "stream",
     "text": [
      "tensor([[[0., 0., 0., 0., 0., 0., 0., 0., 0., 0., 0., 0., 0., 0., 0., 0., 0.,\n",
      "          0., 0., 0., 0., 0., 0., 0., 0., 0., 0., 0., 0., 0., 0., 0., 0., 0.,\n",
      "          0., 1., 0., 0., 0., 0., 0., 0., 0., 0., 0., 0., 0., 0., 0., 0., 0.,\n",
      "          0., 0., 0., 0., 0.]],\n",
      "\n",
      "        [[0., 0., 0., 0., 0., 0., 0., 0., 0., 0., 0., 0., 0., 0., 1., 0., 0.,\n",
      "          0., 0., 0., 0., 0., 0., 0., 0., 0., 0., 0., 0., 0., 0., 0., 0., 0.,\n",
      "          0., 0., 0., 0., 0., 0., 0., 0., 0., 0., 0., 0., 0., 0., 0., 0., 0.,\n",
      "          0., 0., 0., 0., 0.]],\n",
      "\n",
      "        [[0., 0., 0., 0., 0., 0., 0., 0., 0., 0., 0., 0., 0., 1., 0., 0., 0.,\n",
      "          0., 0., 0., 0., 0., 0., 0., 0., 0., 0., 0., 0., 0., 0., 0., 0., 0.,\n",
      "          0., 0., 0., 0., 0., 0., 0., 0., 0., 0., 0., 0., 0., 0., 0., 0., 0.,\n",
      "          0., 0., 0., 0., 0.]],\n",
      "\n",
      "        [[0., 0., 0., 0., 1., 0., 0., 0., 0., 0., 0., 0., 0., 0., 0., 0., 0.,\n",
      "          0., 0., 0., 0., 0., 0., 0., 0., 0., 0., 0., 0., 0., 0., 0., 0., 0.,\n",
      "          0., 0., 0., 0., 0., 0., 0., 0., 0., 0., 0., 0., 0., 0., 0., 0., 0.,\n",
      "          0., 0., 0., 0., 0.]],\n",
      "\n",
      "        [[0., 0., 0., 0., 0., 0., 0., 0., 0., 0., 0., 0., 0., 0., 0., 0., 0.,\n",
      "          0., 1., 0., 0., 0., 0., 0., 0., 0., 0., 0., 0., 0., 0., 0., 0., 0.,\n",
      "          0., 0., 0., 0., 0., 0., 0., 0., 0., 0., 0., 0., 0., 0., 0., 0., 0.,\n",
      "          0., 0., 0., 0., 0.]]])\n",
      "torch.Size([5, 1, 56])\n"
     ]
    }
   ],
   "source": [
    "# To represent a single letter, we use a \"one-hot vector\" of size <1 x n_letters>.\n",
    "# To make a word we join a bunch of those into a 2D matrix <line_length x 1 x n_letters>.\n",
    "# That extra 1 dimension is because PyTorch assumes everything is in batches - we're just using a batch size of 1 here.\n",
    "print(line_to_tensor('Jones'))\n",
    "print(line_to_tensor('Jones').size())"
   ]
  },
  {
   "cell_type": "markdown",
   "metadata": {},
   "source": [
    "--------------"
   ]
  },
  {
   "cell_type": "code",
   "execution_count": 7,
   "metadata": {},
   "outputs": [],
   "source": [
    "class RNN(torch.nn.Module):\n",
    "    def __init__(self, input_size, hidden_size, output_size):\n",
    "        \"\"\"\n",
    "        Initiate nn.Linear modules\n",
    "        \"\"\"\n",
    "        super(RNN, self).__init__()\n",
    "        self.input_size = input_size\n",
    "        self.hidden_size = hidden_size\n",
    "        self.output_size = output_size\n",
    "        \n",
    "        self.input_hidden = torch.nn.Linear(input_size + hidden_size, hidden_size)\n",
    "        self.input_output = torch.nn.Linear(input_size + hidden_size, output_size)\n",
    "        \n",
    "        self.logsoftmax = torch.nn.LogSoftmax()  # log(softmax( input ))\n",
    "        \n",
    "    def forward(self, x, hidden):\n",
    "        \"\"\"\n",
    "        Get your Varible and return prediction\n",
    "        \"\"\"\n",
    "        inandhidden = torch.cat((x, hidden), 1)\n",
    "        hidden = self.input_hidden(inandhidden)\n",
    "        output = self.input_output(inandhidden)\n",
    "        prediction = self.logsoftmax(output)\n",
    "        \n",
    "        return prediction, hidden\n",
    "    \n",
    "    def init_hidden(self):\n",
    "        return Variable(torch.zeros(1, self.hidden_size))"
   ]
  },
  {
   "cell_type": "code",
   "execution_count": 49,
   "metadata": {},
   "outputs": [],
   "source": [
    "# confusion matrix indicating for every actual language (rows) which language the network guesses (columns)\n",
    "confusion = torch.zeros(n_categories, n_categories)\n",
    "n_confusion = 100000\n",
    "\n",
    "def category_from_output(prediction):\n",
    "    \"\"\"\n",
    "    prediction : the last output layer of our model(char-RNN)\n",
    "    \"\"\"\n",
    "    top_tensor, top_index = prediction.data.topk(1)\n",
    "    # output.data.topk returns 2 : (tensor([[-0.9770]]), tensor([[12]])) ...example\n",
    "    prediction_index = top_index.squeeze()\n",
    "    # torch.sqeeze : Returns a tensor with all the dimensions of input of size 1 removed.\n",
    "    prediction_category = all_categories[prediction_index]\n",
    "    \n",
    "    return prediction_category, prediction_index"
   ]
  },
  {
   "cell_type": "code",
   "execution_count": 8,
   "metadata": {},
   "outputs": [],
   "source": [
    "n_letters = 57\n",
    "n_hidden = 128\n",
    "n_categories = len(all_categories)\n",
    "\n",
    "input_size, hidden_size, output_size = n_letters, n_hidden, n_categories\n",
    "\n",
    "learning_rate = 0.005  # 1e-6 is too small here with nn\n",
    "n_epoch=30000"
   ]
  },
  {
   "cell_type": "code",
   "execution_count": 50,
   "metadata": {
    "scrolled": true
   },
   "outputs": [
    {
     "name": "stderr",
     "output_type": "stream",
     "text": [
      "/home/hansol/anaconda3/lib/python3.6/site-packages/ipykernel_launcher.py:23: UserWarning: Implicit dimension choice for log_softmax has been deprecated. Change the call to include dim=X as an argument.\n"
     ]
    },
    {
     "name": "stdout",
     "output_type": "stream",
     "text": [
      "(1000 epoch) line = Tanzi, category = Italian, loss = 2.864056\n",
      "(2000 epoch) line = Remenny, category = Russian, loss = 2.822576\n",
      "(3000 epoch) line = Klerx, category = Dutch, loss = 2.770561\n",
      "(4000 epoch) line = Niall, category = Irish, loss = 2.719918\n",
      "(5000 epoch) line = Vargas, category = Portuguese, loss = 2.596963\n",
      "(6000 epoch) line = Mata, category = Portuguese, loss = 2.527450\n",
      "(7000 epoch) line = Takudo, category = Japanese, loss = 2.394449\n",
      "(8000 epoch) line = Robert, category = French, loss = 2.331736\n",
      "(9000 epoch) line = Hao, category = Chinese, loss = 2.216301\n",
      "(10000 epoch) line = Zambrano, category = Spanish, loss = 2.210398\n",
      "(11000 epoch) line = Hadjiyianakies, category = Greek, loss = 2.188550\n",
      "(12000 epoch) line = Faucheux, category = French, loss = 2.086071\n",
      "(13000 epoch) line = Burns, category = Scottish, loss = 2.070467\n",
      "(14000 epoch) line = Veltman, category = Russian, loss = 2.019908\n",
      "(15000 epoch) line = Nobunaga, category = Japanese, loss = 2.012945\n",
      "(16000 epoch) line = Kouri, category = Arabic, loss = 1.934920\n",
      "(17000 epoch) line = Lando, category = Italian, loss = 1.920784\n",
      "(18000 epoch) line = Mcintosh, category = Scottish, loss = 1.884077\n",
      "(19000 epoch) line = Reid, category = Scottish, loss = 1.885354\n",
      "(20000 epoch) line = Scheer, category = German, loss = 1.872045\n",
      "(21000 epoch) line = Alt, category = Czech, loss = 1.823643\n",
      "(22000 epoch) line = Collett, category = English, loss = 1.799201\n",
      "(23000 epoch) line = Quyen, category = Vietnamese, loss = 1.761811\n",
      "(24000 epoch) line = Tron, category = Vietnamese, loss = 1.775151\n",
      "(25000 epoch) line = Mcintosh, category = Scottish, loss = 1.750540\n",
      "(26000 epoch) line = Imaizumi, category = Japanese, loss = 1.801275\n",
      "(27000 epoch) line = Soares, category = Portuguese, loss = 1.680842\n",
      "(28000 epoch) line = Garcia, category = Spanish, loss = 1.713660\n",
      "(29000 epoch) line = Macdermott, category = Irish, loss = 1.678081\n",
      "(30000 epoch) line = Czajkowski, category = Polish, loss = 1.687514\n"
     ]
    }
   ],
   "source": [
    "model  = RNN(input_size, hidden_size, output_size)\n",
    "loss_fn = torch.nn.NLLLoss()  # the negative log likelihood loss (useful to train a classification problem with C classes)\n",
    "# negative loglikelihood loss vs cross entropy loss ?\n",
    "# http://www.godeep.ml/cross-entropy-likelihood-relation/\n",
    "optimizer = torch.optim.SGD(model.parameters(), lr=learning_rate)\n",
    "\n",
    "all_losses = []\n",
    "current_loss=0\n",
    "\n",
    "for epoch in range(1, n_epoch+1):\n",
    "    # data\n",
    "    line, category, line_tensor, category_tensor = random_training_pair()\n",
    "    \n",
    "    # initialize\n",
    "    model.zero_grad()  # same as 'weights.grad.data.zero_()', optimizer.zero_grad()\n",
    "    hidden = model.init_hidden()\n",
    "    \n",
    "    # forward\n",
    "    for i in range(line_tensor.size()[0]):  # n_letter for that line\n",
    "        prediction, hidden = model(line_tensor[i], hidden)\n",
    "    \n",
    "    # confusion matrix\n",
    "    prediction_category, prediction_index = category_from_output(prediction)\n",
    "    confusion[category_tensor.squeeze()][prediction_index] += 1\n",
    "    \n",
    "    # loss\n",
    "    loss = loss_fn(prediction, category_tensor)\n",
    "    \n",
    "    # backward\n",
    "    loss.backward()\n",
    "    optimizer.step() # performs a parameter update based on the current gradient\n",
    "    \n",
    "    current_loss += loss\n",
    "    \n",
    "    if epoch % 1000 == 0 :\n",
    "        all_losses.append(current_loss/1000)\n",
    "        print('(%d epoch) line = %s, category = %s, loss = %f' %(epoch, line, category, current_loss/1000))\n",
    "        current_loss = 0"
   ]
  },
  {
   "cell_type": "code",
   "execution_count": 10,
   "metadata": {},
   "outputs": [
    {
     "data": {
      "text/plain": [
       "[<matplotlib.lines.Line2D at 0x7f64d2d78400>]"
      ]
     },
     "execution_count": 10,
     "metadata": {},
     "output_type": "execute_result"
    },
    {
     "data": {
      "image/png": "[encoded data removed]",
      "text/plain": [
       "<Figure size 432x288 with 1 Axes>"
      ]
     },
     "metadata": {},
     "output_type": "display_data"
    }
   ],
   "source": [
    "import matplotlib.pyplot as plt\n",
    "% matplotlib inline\n",
    "\n",
    "plt.figure()\n",
    "plt.plot(all_losses)"
   ]
  },
  {
   "cell_type": "markdown",
   "metadata": {},
   "source": [
    "----------------"
   ]
  },
  {
   "cell_type": "code",
   "execution_count": 62,
   "metadata": {},
   "outputs": [],
   "source": [
    "# normalize confusion matrix\n",
    "for i in range(n_categories):\n",
    "    confusion[i] = confusion[i] / confusion[i].sum()"
   ]
  },
  {
   "cell_type": "code",
   "execution_count": 66,
   "metadata": {},
   "outputs": [
    {
     "data": {
      "image/png": "[encoded data removed]",
      "text/plain": [
       "<Figure size 432x288 with 2 Axes>"
      ]
     },
     "metadata": {},
     "output_type": "display_data"
    }
   ],
   "source": [
    "import matplotlib.ticker as ticker\n",
    "\n",
    "# Set up plot\n",
    "fig = plt.figure()\n",
    "ax = fig.add_subplot(111)\n",
    "cax = ax.matshow(confusion.numpy())\n",
    "fig.colorbar(cax)\n",
    "\n",
    "# Set up axes\n",
    "ax.set_xticklabels([''] + all_categories, rotation=90)\n",
    "ax.set_yticklabels([''] + all_categories)\n",
    "\n",
    "# Force label at every tick\n",
    "ax.xaxis.set_major_locator(ticker.MultipleLocator(1))\n",
    "ax.yaxis.set_major_locator(ticker.MultipleLocator(1))\n",
    "\n",
    "plt.show()"
   ]
  },
  {
   "cell_type": "code",
   "execution_count": 101,
   "metadata": {},
   "outputs": [],
   "source": [
    "def evaluate(line_tensor):\n",
    "    hidden = model.init_hidden()\n",
    "    \n",
    "    # forward\n",
    "    for i in range(line_tensor.size()[0]):  # n_letter for that line\n",
    "        prediction, hidden = model(line_tensor[i], hidden)\n",
    "        \n",
    "    return prediction\n",
    "\n",
    "def predict(input_line, n_predictions=3):\n",
    "    print('\\n> %s' % input_line)\n",
    "    prediction = evaluate((line_to_tensor(input_line)))\n",
    "    top_tensor, top_index = prediction.data.topk(3)\n",
    "    \n",
    "    for i in range(n_predictions):\n",
    "        print('(%.2f) %s' % (top_tensor.squeeze()[i], all_categories[top_index.squeeze()[i]]))\n"
   ]
  },
  {
   "cell_type": "code",
   "execution_count": 104,
   "metadata": {},
   "outputs": [
    {
     "name": "stdout",
     "output_type": "stream",
     "text": [
      "\n",
      "> Jack\n",
      "(-2.01) Korean\n",
      "(-2.15) Polish\n",
      "(-2.20) Vietnamese\n",
      "\n",
      "> hansol\n",
      "(-1.81) Arabic\n",
      "(-1.91) Scottish\n",
      "(-1.96) Irish\n",
      "\n",
      "> ahaha\n",
      "(-0.38) Japanese\n",
      "(-2.28) Arabic\n",
      "(-2.39) Irish\n"
     ]
    },
    {
     "name": "stderr",
     "output_type": "stream",
     "text": [
      "/home/hansol/anaconda3/lib/python3.6/site-packages/ipykernel_launcher.py:23: UserWarning: Implicit dimension choice for log_softmax has been deprecated. Change the call to include dim=X as an argument.\n"
     ]
    }
   ],
   "source": [
    "predict('Jack')\n",
    "predict('hansol')\n",
    "predict('ahaha')"
   ]
  },
  {
   "cell_type": "code",
   "execution_count": null,
   "metadata": {},
   "outputs": [],
   "source": []
  }
 ],
 "metadata": {
  "kernelspec": {
   "display_name": "Python 3",
   "language": "python",
   "name": "python3"
  },
  "language_info": {
   "codemirror_mode": {
    "name": "ipython",
    "version": 3
   },
   "file_extension": ".py",
   "mimetype": "text/x-python",
   "name": "python",
   "nbconvert_exporter": "python",
   "pygments_lexer": "ipython3",
   "version": "3.6.5"
  }
 },
 "nbformat": 4,
 "nbformat_minor": 2
}
